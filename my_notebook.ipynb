{
 "cells": [
  {
   "cell_type": "code",
   "execution_count": 1,
   "metadata": {},
   "outputs": [
    {
     "name": "stdout",
     "output_type": "stream",
     "text": [
      "Data:  [45, 55, 60, 50, 80, 62, 54, 58, 71, 48]\n",
      "Mean:  58.3\n",
      "Mode:  45\n"
     ]
    }
   ],
   "source": [
    "\n",
    "import statistics\n",
    "\n",
    "# Data for the 10 students\n",
    "data = [45, 55, 60, 50, 80, 62, 54, 58, 71, 48]\n",
    "print(\"Data: \", data)\n",
    "\n",
    "\n",
    "# Calculate the mean using statistics module\n",
    "mean = statistics.mean(data)\n",
    "print(\"Mean: \", mean)\n",
    "\n",
    "# Calculate the mean using statistics module\n",
    "mode = statistics.mode(data)\n",
    "print(\"Mode: \", mode)"
   ]
  },
  {
   "cell_type": "code",
   "execution_count": 3,
   "metadata": {},
   "outputs": [
    {
     "name": "stdout",
     "output_type": "stream",
     "text": [
      "Unauthorized\n"
     ]
    }
   ],
   "source": [
    "# Replace 'filename.txt' with your text file path\n",
    "with open('true.txt', 'r') as file:\n",
    "    data = file.read()\n",
    "\n",
    "print(data)"
   ]
  }
 ],
 "metadata": {
  "kernelspec": {
   "display_name": "Python 3",
   "language": "python",
   "name": "python3"
  },
  "language_info": {
   "codemirror_mode": {
    "name": "ipython",
    "version": 3
   },
   "file_extension": ".py",
   "mimetype": "text/x-python",
   "name": "python",
   "nbconvert_exporter": "python",
   "pygments_lexer": "ipython3",
   "version": "3.11.5"
  }
 },
 "nbformat": 4,
 "nbformat_minor": 2
}
